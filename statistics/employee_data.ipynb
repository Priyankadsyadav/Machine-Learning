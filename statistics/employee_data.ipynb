{
 "cells": [
  {
   "cell_type": "code",
   "execution_count": 209,
   "id": "c5960378",
   "metadata": {},
   "outputs": [],
   "source": [
    "import pandas as pd\n",
    "import numpy as np \n",
    "import seaborn as sns\n",
    "import matplotlib.pyplot as plt"
   ]
  },
  {
   "cell_type": "code",
   "execution_count": 210,
   "id": "911c41d5",
   "metadata": {},
   "outputs": [],
   "source": [
    "df=pd.read_csv('Employee_Salaries_-_2024.csv')"
   ]
  },
  {
   "cell_type": "code",
   "execution_count": 211,
   "id": "0b50dc40",
   "metadata": {},
   "outputs": [
    {
     "data": {
      "text/html": [
       "<div>\n",
       "<style scoped>\n",
       "    .dataframe tbody tr th:only-of-type {\n",
       "        vertical-align: middle;\n",
       "    }\n",
       "\n",
       "    .dataframe tbody tr th {\n",
       "        vertical-align: top;\n",
       "    }\n",
       "\n",
       "    .dataframe thead th {\n",
       "        text-align: right;\n",
       "    }\n",
       "</style>\n",
       "<table border=\"1\" class=\"dataframe\">\n",
       "  <thead>\n",
       "    <tr style=\"text-align: right;\">\n",
       "      <th></th>\n",
       "      <th>Department</th>\n",
       "      <th>Department Name</th>\n",
       "      <th>Division</th>\n",
       "      <th>Gender</th>\n",
       "      <th>Base Salary</th>\n",
       "      <th>2024 Overtime Pay</th>\n",
       "      <th>2024 Longevity Pay</th>\n",
       "      <th>Grade</th>\n",
       "    </tr>\n",
       "  </thead>\n",
       "  <tbody>\n",
       "    <tr>\n",
       "      <th>0</th>\n",
       "      <td>ABS</td>\n",
       "      <td>Alcohol Beverage Services</td>\n",
       "      <td>ABS 85 IT Administration</td>\n",
       "      <td>M</td>\n",
       "      <td>169555.00</td>\n",
       "      <td>0.00</td>\n",
       "      <td>0.00</td>\n",
       "      <td>M3</td>\n",
       "    </tr>\n",
       "    <tr>\n",
       "      <th>1</th>\n",
       "      <td>CUS</td>\n",
       "      <td>Community Use of Public Facilities</td>\n",
       "      <td>CUS 70 Finance and Administrative Support Team</td>\n",
       "      <td>F</td>\n",
       "      <td>141876.93</td>\n",
       "      <td>0.00</td>\n",
       "      <td>0.00</td>\n",
       "      <td>M3</td>\n",
       "    </tr>\n",
       "    <tr>\n",
       "      <th>2</th>\n",
       "      <td>DGS</td>\n",
       "      <td>Department of General Services</td>\n",
       "      <td>DGS 36 Fleet Management Services</td>\n",
       "      <td>F</td>\n",
       "      <td>87523.00</td>\n",
       "      <td>748.37</td>\n",
       "      <td>2701.48</td>\n",
       "      <td>16</td>\n",
       "    </tr>\n",
       "    <tr>\n",
       "      <th>3</th>\n",
       "      <td>CEX</td>\n",
       "      <td>Offices of the County Executive</td>\n",
       "      <td>CEX 15 Chief Administrative Officer's Office</td>\n",
       "      <td>F</td>\n",
       "      <td>207000.00</td>\n",
       "      <td>0.00</td>\n",
       "      <td>0.00</td>\n",
       "      <td>EX2</td>\n",
       "    </tr>\n",
       "    <tr>\n",
       "      <th>4</th>\n",
       "      <td>HHS</td>\n",
       "      <td>Department of Health and Human Services</td>\n",
       "      <td>HHS 60 Office of Eligibility and Support Services</td>\n",
       "      <td>F</td>\n",
       "      <td>91392.00</td>\n",
       "      <td>0.00</td>\n",
       "      <td>5733.27</td>\n",
       "      <td>N17</td>\n",
       "    </tr>\n",
       "    <tr>\n",
       "      <th>5</th>\n",
       "      <td>OAG</td>\n",
       "      <td>Office of Agriculture</td>\n",
       "      <td>OAG 78 Agricultural Services</td>\n",
       "      <td>F</td>\n",
       "      <td>108899.00</td>\n",
       "      <td>0.00</td>\n",
       "      <td>3361.18</td>\n",
       "      <td>N21</td>\n",
       "    </tr>\n",
       "    <tr>\n",
       "      <th>6</th>\n",
       "      <td>COR</td>\n",
       "      <td>Correction and Rehabilitation</td>\n",
       "      <td>COR 42 MSD Fiscal Services</td>\n",
       "      <td>F</td>\n",
       "      <td>160088.68</td>\n",
       "      <td>0.00</td>\n",
       "      <td>0.00</td>\n",
       "      <td>M3</td>\n",
       "    </tr>\n",
       "    <tr>\n",
       "      <th>7</th>\n",
       "      <td>HHS</td>\n",
       "      <td>Department of Health and Human Services</td>\n",
       "      <td>HHS 60 Public Health Services Division</td>\n",
       "      <td>F</td>\n",
       "      <td>130181.00</td>\n",
       "      <td>0.00</td>\n",
       "      <td>8166.53</td>\n",
       "      <td>N25</td>\n",
       "    </tr>\n",
       "    <tr>\n",
       "      <th>8</th>\n",
       "      <td>HHS</td>\n",
       "      <td>Department of Health and Human Services</td>\n",
       "      <td>HHS 60 Office of Eligibility and Support Services</td>\n",
       "      <td>F</td>\n",
       "      <td>104197.00</td>\n",
       "      <td>0.00</td>\n",
       "      <td>3216.00</td>\n",
       "      <td>20</td>\n",
       "    </tr>\n",
       "    <tr>\n",
       "      <th>9</th>\n",
       "      <td>DGS</td>\n",
       "      <td>Department of General Services</td>\n",
       "      <td>DGS 36 Real Estate Office</td>\n",
       "      <td>F</td>\n",
       "      <td>169555.00</td>\n",
       "      <td>0.00</td>\n",
       "      <td>0.00</td>\n",
       "      <td>M3</td>\n",
       "    </tr>\n",
       "  </tbody>\n",
       "</table>\n",
       "</div>"
      ],
      "text/plain": [
       "  Department                          Department Name  \\\n",
       "0        ABS                Alcohol Beverage Services   \n",
       "1        CUS       Community Use of Public Facilities   \n",
       "2        DGS           Department of General Services   \n",
       "3        CEX          Offices of the County Executive   \n",
       "4        HHS  Department of Health and Human Services   \n",
       "5        OAG                    Office of Agriculture   \n",
       "6        COR            Correction and Rehabilitation   \n",
       "7        HHS  Department of Health and Human Services   \n",
       "8        HHS  Department of Health and Human Services   \n",
       "9        DGS           Department of General Services   \n",
       "\n",
       "                                            Division Gender  Base Salary  \\\n",
       "0                           ABS 85 IT Administration      M    169555.00   \n",
       "1     CUS 70 Finance and Administrative Support Team      F    141876.93   \n",
       "2                   DGS 36 Fleet Management Services      F     87523.00   \n",
       "3       CEX 15 Chief Administrative Officer's Office      F    207000.00   \n",
       "4  HHS 60 Office of Eligibility and Support Services      F     91392.00   \n",
       "5                       OAG 78 Agricultural Services      F    108899.00   \n",
       "6                         COR 42 MSD Fiscal Services      F    160088.68   \n",
       "7             HHS 60 Public Health Services Division      F    130181.00   \n",
       "8  HHS 60 Office of Eligibility and Support Services      F    104197.00   \n",
       "9                          DGS 36 Real Estate Office      F    169555.00   \n",
       "\n",
       "   2024 Overtime Pay  2024 Longevity Pay Grade  \n",
       "0               0.00                0.00    M3  \n",
       "1               0.00                0.00    M3  \n",
       "2             748.37             2701.48    16  \n",
       "3               0.00                0.00   EX2  \n",
       "4               0.00             5733.27   N17  \n",
       "5               0.00             3361.18   N21  \n",
       "6               0.00                0.00    M3  \n",
       "7               0.00             8166.53   N25  \n",
       "8               0.00             3216.00    20  \n",
       "9               0.00                0.00    M3  "
      ]
     },
     "execution_count": 211,
     "metadata": {},
     "output_type": "execute_result"
    }
   ],
   "source": [
    "df.head(10)\n"
   ]
  },
  {
   "cell_type": "code",
   "execution_count": 212,
   "id": "5308b431",
   "metadata": {},
   "outputs": [
    {
     "name": "stdout",
     "output_type": "stream",
     "text": [
      "<class 'pandas.core.frame.DataFrame'>\n",
      "RangeIndex: 10398 entries, 0 to 10397\n",
      "Data columns (total 8 columns):\n",
      " #   Column              Non-Null Count  Dtype  \n",
      "---  ------              --------------  -----  \n",
      " 0   Department          10398 non-null  object \n",
      " 1   Department Name     10398 non-null  object \n",
      " 2   Division            10398 non-null  object \n",
      " 3   Gender              10398 non-null  object \n",
      " 4   Base Salary         10398 non-null  float64\n",
      " 5   2024 Overtime Pay   10398 non-null  float64\n",
      " 6   2024 Longevity Pay  10398 non-null  float64\n",
      " 7   Grade               10376 non-null  object \n",
      "dtypes: float64(3), object(5)\n",
      "memory usage: 650.0+ KB\n"
     ]
    }
   ],
   "source": [
    "df.info()"
   ]
  },
  {
   "cell_type": "code",
   "execution_count": 213,
   "id": "33a1a1b8",
   "metadata": {},
   "outputs": [
    {
     "name": "stdout",
     "output_type": "stream",
     "text": [
      "Department             0\n",
      "Department Name        0\n",
      "Division               0\n",
      "Gender                 0\n",
      "Base Salary            0\n",
      "2024 Overtime Pay      0\n",
      "2024 Longevity Pay     0\n",
      "Grade                 22\n",
      "dtype: int64\n"
     ]
    }
   ],
   "source": [
    "# let's check missing values of grade\n",
    "print(df.isnull().sum())"
   ]
  },
  {
   "cell_type": "code",
   "execution_count": 214,
   "id": "f717e41d",
   "metadata": {},
   "outputs": [
    {
     "data": {
      "text/plain": [
       "(10398, 8)"
      ]
     },
     "execution_count": 214,
     "metadata": {},
     "output_type": "execute_result"
    }
   ],
   "source": [
    "df.shape"
   ]
  },
  {
   "cell_type": "code",
   "execution_count": 215,
   "id": "be53f5fa",
   "metadata": {},
   "outputs": [
    {
     "data": {
      "text/plain": [
       "Grade\n",
       "T1     723\n",
       "16     672\n",
       "24     571\n",
       "P4     571\n",
       "F3     519\n",
       "      ... \n",
       "N12      1\n",
       "EX0      1\n",
       "MD2      1\n",
       "N36      1\n",
       "F2P      1\n",
       "Name: count, Length: 100, dtype: int64"
      ]
     },
     "execution_count": 215,
     "metadata": {},
     "output_type": "execute_result"
    }
   ],
   "source": [
    "df['Grade'].value_counts()"
   ]
  },
  {
   "cell_type": "code",
   "execution_count": 216,
   "id": "9fa39365",
   "metadata": {},
   "outputs": [
    {
     "name": "stderr",
     "output_type": "stream",
     "text": [
      "C:\\Users\\Priyanka\\AppData\\Local\\Temp\\ipykernel_18036\\3728034323.py:3: FutureWarning: A value is trying to be set on a copy of a DataFrame or Series through chained assignment using an inplace method.\n",
      "The behavior will change in pandas 3.0. This inplace method will never work because the intermediate object on which we are setting values always behaves as a copy.\n",
      "\n",
      "For example, when doing 'df[col].method(value, inplace=True)', try using 'df.method({col: value}, inplace=True)' or df[col] = df[col].method(value) instead, to perform the operation inplace on the original object.\n",
      "\n",
      "\n",
      "  df['Grade'].fillna('Unknown',inplace=True)\n"
     ]
    }
   ],
   "source": [
    "#either I can drop or replace it with a value so later it help in analysis\n",
    "\n",
    "df['Grade'].fillna('Unknown',inplace=True)"
   ]
  },
  {
   "cell_type": "code",
   "execution_count": 217,
   "id": "55635647",
   "metadata": {},
   "outputs": [
    {
     "name": "stdout",
     "output_type": "stream",
     "text": [
      "0\n"
     ]
    }
   ],
   "source": [
    "print(df['Grade'].isnull().sum())"
   ]
  },
  {
   "cell_type": "code",
   "execution_count": 218,
   "id": "9a5cec4f",
   "metadata": {},
   "outputs": [
    {
     "name": "stdout",
     "output_type": "stream",
     "text": [
      "<class 'pandas.core.frame.DataFrame'>\n",
      "RangeIndex: 10398 entries, 0 to 10397\n",
      "Data columns (total 8 columns):\n",
      " #   Column              Non-Null Count  Dtype  \n",
      "---  ------              --------------  -----  \n",
      " 0   Department          10398 non-null  object \n",
      " 1   Department Name     10398 non-null  object \n",
      " 2   Division            10398 non-null  object \n",
      " 3   Gender              10398 non-null  object \n",
      " 4   Base Salary         10398 non-null  float64\n",
      " 5   2024 Overtime Pay   10398 non-null  float64\n",
      " 6   2024 Longevity Pay  10398 non-null  float64\n",
      " 7   Grade               10398 non-null  object \n",
      "dtypes: float64(3), object(5)\n",
      "memory usage: 650.0+ KB\n"
     ]
    }
   ],
   "source": [
    "df.info()"
   ]
  },
  {
   "cell_type": "code",
   "execution_count": 219,
   "id": "2fd040d2",
   "metadata": {},
   "outputs": [
    {
     "data": {
      "text/plain": [
       "['Department', 'Department Name', 'Division', 'Gender', 'Grade']"
      ]
     },
     "execution_count": 219,
     "metadata": {},
     "output_type": "execute_result"
    }
   ],
   "source": [
    "categorical_columns=[var for var in df.columns if df[var].dtypes =='O']\n",
    "categorical_columns\n",
    "\n"
   ]
  },
  {
   "cell_type": "code",
   "execution_count": 220,
   "id": "ce40fff0",
   "metadata": {},
   "outputs": [
    {
     "data": {
      "text/plain": [
       "['Base Salary', '2024 Overtime Pay', '2024 Longevity Pay']"
      ]
     },
     "execution_count": 220,
     "metadata": {},
     "output_type": "execute_result"
    }
   ],
   "source": [
    "numerical_columns=[var for var in df.columns if df[var].dtypes!='O']\n",
    "numerical_columns\n"
   ]
  },
  {
   "cell_type": "code",
   "execution_count": 221,
   "id": "2d508024",
   "metadata": {},
   "outputs": [],
   "source": [
    "df['Total_Pay']=df['Base Salary']+df['2024 Overtime Pay']+df['2024 Longevity Pay']"
   ]
  },
  {
   "cell_type": "code",
   "execution_count": 222,
   "id": "4d5e1cce",
   "metadata": {},
   "outputs": [
    {
     "data": {
      "text/html": [
       "<div>\n",
       "<style scoped>\n",
       "    .dataframe tbody tr th:only-of-type {\n",
       "        vertical-align: middle;\n",
       "    }\n",
       "\n",
       "    .dataframe tbody tr th {\n",
       "        vertical-align: top;\n",
       "    }\n",
       "\n",
       "    .dataframe thead th {\n",
       "        text-align: right;\n",
       "    }\n",
       "</style>\n",
       "<table border=\"1\" class=\"dataframe\">\n",
       "  <thead>\n",
       "    <tr style=\"text-align: right;\">\n",
       "      <th></th>\n",
       "      <th>Department</th>\n",
       "      <th>Department Name</th>\n",
       "      <th>Division</th>\n",
       "      <th>Gender</th>\n",
       "      <th>Base Salary</th>\n",
       "      <th>2024 Overtime Pay</th>\n",
       "      <th>2024 Longevity Pay</th>\n",
       "      <th>Grade</th>\n",
       "      <th>Total_Pay</th>\n",
       "    </tr>\n",
       "  </thead>\n",
       "  <tbody>\n",
       "    <tr>\n",
       "      <th>0</th>\n",
       "      <td>ABS</td>\n",
       "      <td>Alcohol Beverage Services</td>\n",
       "      <td>ABS 85 IT Administration</td>\n",
       "      <td>M</td>\n",
       "      <td>169555.00</td>\n",
       "      <td>0.00</td>\n",
       "      <td>0.00</td>\n",
       "      <td>M3</td>\n",
       "      <td>169555.00</td>\n",
       "    </tr>\n",
       "    <tr>\n",
       "      <th>1</th>\n",
       "      <td>CUS</td>\n",
       "      <td>Community Use of Public Facilities</td>\n",
       "      <td>CUS 70 Finance and Administrative Support Team</td>\n",
       "      <td>F</td>\n",
       "      <td>141876.93</td>\n",
       "      <td>0.00</td>\n",
       "      <td>0.00</td>\n",
       "      <td>M3</td>\n",
       "      <td>141876.93</td>\n",
       "    </tr>\n",
       "    <tr>\n",
       "      <th>2</th>\n",
       "      <td>DGS</td>\n",
       "      <td>Department of General Services</td>\n",
       "      <td>DGS 36 Fleet Management Services</td>\n",
       "      <td>F</td>\n",
       "      <td>87523.00</td>\n",
       "      <td>748.37</td>\n",
       "      <td>2701.48</td>\n",
       "      <td>16</td>\n",
       "      <td>90972.85</td>\n",
       "    </tr>\n",
       "    <tr>\n",
       "      <th>3</th>\n",
       "      <td>CEX</td>\n",
       "      <td>Offices of the County Executive</td>\n",
       "      <td>CEX 15 Chief Administrative Officer's Office</td>\n",
       "      <td>F</td>\n",
       "      <td>207000.00</td>\n",
       "      <td>0.00</td>\n",
       "      <td>0.00</td>\n",
       "      <td>EX2</td>\n",
       "      <td>207000.00</td>\n",
       "    </tr>\n",
       "    <tr>\n",
       "      <th>4</th>\n",
       "      <td>HHS</td>\n",
       "      <td>Department of Health and Human Services</td>\n",
       "      <td>HHS 60 Office of Eligibility and Support Services</td>\n",
       "      <td>F</td>\n",
       "      <td>91392.00</td>\n",
       "      <td>0.00</td>\n",
       "      <td>5733.27</td>\n",
       "      <td>N17</td>\n",
       "      <td>97125.27</td>\n",
       "    </tr>\n",
       "  </tbody>\n",
       "</table>\n",
       "</div>"
      ],
      "text/plain": [
       "  Department                          Department Name  \\\n",
       "0        ABS                Alcohol Beverage Services   \n",
       "1        CUS       Community Use of Public Facilities   \n",
       "2        DGS           Department of General Services   \n",
       "3        CEX          Offices of the County Executive   \n",
       "4        HHS  Department of Health and Human Services   \n",
       "\n",
       "                                            Division Gender  Base Salary  \\\n",
       "0                           ABS 85 IT Administration      M    169555.00   \n",
       "1     CUS 70 Finance and Administrative Support Team      F    141876.93   \n",
       "2                   DGS 36 Fleet Management Services      F     87523.00   \n",
       "3       CEX 15 Chief Administrative Officer's Office      F    207000.00   \n",
       "4  HHS 60 Office of Eligibility and Support Services      F     91392.00   \n",
       "\n",
       "   2024 Overtime Pay  2024 Longevity Pay Grade  Total_Pay  \n",
       "0               0.00                0.00    M3  169555.00  \n",
       "1               0.00                0.00    M3  141876.93  \n",
       "2             748.37             2701.48    16   90972.85  \n",
       "3               0.00                0.00   EX2  207000.00  \n",
       "4               0.00             5733.27   N17   97125.27  "
      ]
     },
     "execution_count": 222,
     "metadata": {},
     "output_type": "execute_result"
    }
   ],
   "source": [
    "df.head()"
   ]
  },
  {
   "cell_type": "code",
   "execution_count": 223,
   "id": "c7f24364",
   "metadata": {},
   "outputs": [],
   "source": [
    "df=df.drop('Base Salary',axis=1)\n",
    "df=df.drop('2024 Overtime Pay',axis=1)\n",
    "df=df.drop('2024 Longevity Pay',axis=1)"
   ]
  },
  {
   "cell_type": "code",
   "execution_count": 224,
   "id": "abfe180b",
   "metadata": {},
   "outputs": [
    {
     "data": {
      "text/html": [
       "<div>\n",
       "<style scoped>\n",
       "    .dataframe tbody tr th:only-of-type {\n",
       "        vertical-align: middle;\n",
       "    }\n",
       "\n",
       "    .dataframe tbody tr th {\n",
       "        vertical-align: top;\n",
       "    }\n",
       "\n",
       "    .dataframe thead th {\n",
       "        text-align: right;\n",
       "    }\n",
       "</style>\n",
       "<table border=\"1\" class=\"dataframe\">\n",
       "  <thead>\n",
       "    <tr style=\"text-align: right;\">\n",
       "      <th></th>\n",
       "      <th>Department</th>\n",
       "      <th>Department Name</th>\n",
       "      <th>Division</th>\n",
       "      <th>Gender</th>\n",
       "      <th>Grade</th>\n",
       "      <th>Total_Pay</th>\n",
       "    </tr>\n",
       "  </thead>\n",
       "  <tbody>\n",
       "    <tr>\n",
       "      <th>0</th>\n",
       "      <td>ABS</td>\n",
       "      <td>Alcohol Beverage Services</td>\n",
       "      <td>ABS 85 IT Administration</td>\n",
       "      <td>M</td>\n",
       "      <td>M3</td>\n",
       "      <td>169555.00</td>\n",
       "    </tr>\n",
       "    <tr>\n",
       "      <th>1</th>\n",
       "      <td>CUS</td>\n",
       "      <td>Community Use of Public Facilities</td>\n",
       "      <td>CUS 70 Finance and Administrative Support Team</td>\n",
       "      <td>F</td>\n",
       "      <td>M3</td>\n",
       "      <td>141876.93</td>\n",
       "    </tr>\n",
       "    <tr>\n",
       "      <th>2</th>\n",
       "      <td>DGS</td>\n",
       "      <td>Department of General Services</td>\n",
       "      <td>DGS 36 Fleet Management Services</td>\n",
       "      <td>F</td>\n",
       "      <td>16</td>\n",
       "      <td>90972.85</td>\n",
       "    </tr>\n",
       "    <tr>\n",
       "      <th>3</th>\n",
       "      <td>CEX</td>\n",
       "      <td>Offices of the County Executive</td>\n",
       "      <td>CEX 15 Chief Administrative Officer's Office</td>\n",
       "      <td>F</td>\n",
       "      <td>EX2</td>\n",
       "      <td>207000.00</td>\n",
       "    </tr>\n",
       "    <tr>\n",
       "      <th>4</th>\n",
       "      <td>HHS</td>\n",
       "      <td>Department of Health and Human Services</td>\n",
       "      <td>HHS 60 Office of Eligibility and Support Services</td>\n",
       "      <td>F</td>\n",
       "      <td>N17</td>\n",
       "      <td>97125.27</td>\n",
       "    </tr>\n",
       "  </tbody>\n",
       "</table>\n",
       "</div>"
      ],
      "text/plain": [
       "  Department                          Department Name  \\\n",
       "0        ABS                Alcohol Beverage Services   \n",
       "1        CUS       Community Use of Public Facilities   \n",
       "2        DGS           Department of General Services   \n",
       "3        CEX          Offices of the County Executive   \n",
       "4        HHS  Department of Health and Human Services   \n",
       "\n",
       "                                            Division Gender Grade  Total_Pay  \n",
       "0                           ABS 85 IT Administration      M    M3  169555.00  \n",
       "1     CUS 70 Finance and Administrative Support Team      F    M3  141876.93  \n",
       "2                   DGS 36 Fleet Management Services      F    16   90972.85  \n",
       "3       CEX 15 Chief Administrative Officer's Office      F   EX2  207000.00  \n",
       "4  HHS 60 Office of Eligibility and Support Services      F   N17   97125.27  "
      ]
     },
     "execution_count": 224,
     "metadata": {},
     "output_type": "execute_result"
    }
   ],
   "source": [
    "df.head()"
   ]
  },
  {
   "cell_type": "code",
   "execution_count": 225,
   "id": "8a9c89fc",
   "metadata": {},
   "outputs": [],
   "source": [
    "# lets convert gender using apply method ,f=1 and m=0\n",
    "\n",
    "df['Gender']=df['Gender'].apply(lambda x:1 if x=='F' else 0)"
   ]
  },
  {
   "cell_type": "code",
   "execution_count": 226,
   "id": "a985537b",
   "metadata": {},
   "outputs": [
    {
     "data": {
      "text/html": [
       "<div>\n",
       "<style scoped>\n",
       "    .dataframe tbody tr th:only-of-type {\n",
       "        vertical-align: middle;\n",
       "    }\n",
       "\n",
       "    .dataframe tbody tr th {\n",
       "        vertical-align: top;\n",
       "    }\n",
       "\n",
       "    .dataframe thead th {\n",
       "        text-align: right;\n",
       "    }\n",
       "</style>\n",
       "<table border=\"1\" class=\"dataframe\">\n",
       "  <thead>\n",
       "    <tr style=\"text-align: right;\">\n",
       "      <th></th>\n",
       "      <th>Department</th>\n",
       "      <th>Department Name</th>\n",
       "      <th>Division</th>\n",
       "      <th>Gender</th>\n",
       "      <th>Grade</th>\n",
       "      <th>Total_Pay</th>\n",
       "    </tr>\n",
       "  </thead>\n",
       "  <tbody>\n",
       "    <tr>\n",
       "      <th>0</th>\n",
       "      <td>ABS</td>\n",
       "      <td>Alcohol Beverage Services</td>\n",
       "      <td>ABS 85 IT Administration</td>\n",
       "      <td>0</td>\n",
       "      <td>M3</td>\n",
       "      <td>169555.00</td>\n",
       "    </tr>\n",
       "    <tr>\n",
       "      <th>1</th>\n",
       "      <td>CUS</td>\n",
       "      <td>Community Use of Public Facilities</td>\n",
       "      <td>CUS 70 Finance and Administrative Support Team</td>\n",
       "      <td>1</td>\n",
       "      <td>M3</td>\n",
       "      <td>141876.93</td>\n",
       "    </tr>\n",
       "    <tr>\n",
       "      <th>2</th>\n",
       "      <td>DGS</td>\n",
       "      <td>Department of General Services</td>\n",
       "      <td>DGS 36 Fleet Management Services</td>\n",
       "      <td>1</td>\n",
       "      <td>16</td>\n",
       "      <td>90972.85</td>\n",
       "    </tr>\n",
       "    <tr>\n",
       "      <th>3</th>\n",
       "      <td>CEX</td>\n",
       "      <td>Offices of the County Executive</td>\n",
       "      <td>CEX 15 Chief Administrative Officer's Office</td>\n",
       "      <td>1</td>\n",
       "      <td>EX2</td>\n",
       "      <td>207000.00</td>\n",
       "    </tr>\n",
       "    <tr>\n",
       "      <th>4</th>\n",
       "      <td>HHS</td>\n",
       "      <td>Department of Health and Human Services</td>\n",
       "      <td>HHS 60 Office of Eligibility and Support Services</td>\n",
       "      <td>1</td>\n",
       "      <td>N17</td>\n",
       "      <td>97125.27</td>\n",
       "    </tr>\n",
       "  </tbody>\n",
       "</table>\n",
       "</div>"
      ],
      "text/plain": [
       "  Department                          Department Name  \\\n",
       "0        ABS                Alcohol Beverage Services   \n",
       "1        CUS       Community Use of Public Facilities   \n",
       "2        DGS           Department of General Services   \n",
       "3        CEX          Offices of the County Executive   \n",
       "4        HHS  Department of Health and Human Services   \n",
       "\n",
       "                                            Division  Gender Grade  Total_Pay  \n",
       "0                           ABS 85 IT Administration       0    M3  169555.00  \n",
       "1     CUS 70 Finance and Administrative Support Team       1    M3  141876.93  \n",
       "2                   DGS 36 Fleet Management Services       1    16   90972.85  \n",
       "3       CEX 15 Chief Administrative Officer's Office       1   EX2  207000.00  \n",
       "4  HHS 60 Office of Eligibility and Support Services       1   N17   97125.27  "
      ]
     },
     "execution_count": 226,
     "metadata": {},
     "output_type": "execute_result"
    }
   ],
   "source": [
    "df.head()"
   ]
  },
  {
   "cell_type": "code",
   "execution_count": 227,
   "id": "28fd906b",
   "metadata": {},
   "outputs": [
    {
     "data": {
      "text/plain": [
       "<Axes: xlabel='Total_Pay', ylabel='Count'>"
      ]
     },
     "execution_count": 227,
     "metadata": {},
     "output_type": "execute_result"
    },
    {
     "data": {
      "image/png": "[encoded data removed]",
      "text/plain": [
       "<Figure size 640x480 with 1 Axes>"
      ]
     },
     "metadata": {},
     "output_type": "display_data"
    }
   ],
   "source": [
    "sns.histplot(df['Total_Pay'],bins=10,kde=True)"
   ]
  },
  {
   "cell_type": "code",
   "execution_count": 228,
   "id": "26d2d1f0",
   "metadata": {},
   "outputs": [
    {
     "data": {
      "text/plain": [
       "count     10398.000000\n",
       "mean     108676.113847\n",
       "std       40044.269975\n",
       "min        5947.050000\n",
       "25%       82584.392500\n",
       "50%      105633.375000\n",
       "75%      130181.000000\n",
       "max      412649.740000\n",
       "Name: Total_Pay, dtype: float64"
      ]
     },
     "execution_count": 228,
     "metadata": {},
     "output_type": "execute_result"
    }
   ],
   "source": [
    "df['Total_Pay'].describe()"
   ]
  },
  {
   "cell_type": "code",
   "execution_count": 229,
   "id": "072e66f4",
   "metadata": {},
   "outputs": [
    {
     "name": "stdout",
     "output_type": "stream",
     "text": [
      "108676.11384689363\n",
      "105633.375\n",
      "0    130181.0\n",
      "Name: Total_Pay, dtype: float64\n"
     ]
    }
   ],
   "source": [
    "print(df['Total_Pay'].mean())\n",
    "print(df['Total_Pay'].median())\n",
    "print(df['Total_Pay'].mode())"
   ]
  },
  {
   "cell_type": "code",
   "execution_count": 230,
   "id": "5bdccab9",
   "metadata": {},
   "outputs": [
    {
     "data": {
      "text/plain": [
       "<Axes: xlabel='Total_Pay'>"
      ]
     },
     "execution_count": 230,
     "metadata": {},
     "output_type": "execute_result"
    },
    {
     "data": {
      "image/png": "[encoded data removed]",
      "text/plain": [
       "<Figure size 640x480 with 1 Axes>"
      ]
     },
     "metadata": {},
     "output_type": "display_data"
    }
   ],
   "source": [
    "#clearly there is an outlier \n",
    "# mean > median :positive skewed distribution\n",
    "\n",
    "sns.boxplot(x=df['Total_Pay'])"
   ]
  },
  {
   "cell_type": "code",
   "execution_count": 231,
   "id": "df64f27a",
   "metadata": {},
   "outputs": [],
   "source": [
    "#even boxplot box it has huge outliers\n",
    "# right skewed data we can apply log transformation \n",
    "\n",
    "df['Total_Pay'] = np.log1p(df['Total_Pay']) \n"
   ]
  },
  {
   "cell_type": "code",
   "execution_count": 232,
   "id": "55520ecd",
   "metadata": {},
   "outputs": [
    {
     "data": {
      "text/html": [
       "<div>\n",
       "<style scoped>\n",
       "    .dataframe tbody tr th:only-of-type {\n",
       "        vertical-align: middle;\n",
       "    }\n",
       "\n",
       "    .dataframe tbody tr th {\n",
       "        vertical-align: top;\n",
       "    }\n",
       "\n",
       "    .dataframe thead th {\n",
       "        text-align: right;\n",
       "    }\n",
       "</style>\n",
       "<table border=\"1\" class=\"dataframe\">\n",
       "  <thead>\n",
       "    <tr style=\"text-align: right;\">\n",
       "      <th></th>\n",
       "      <th>Department</th>\n",
       "      <th>Department Name</th>\n",
       "      <th>Division</th>\n",
       "      <th>Gender</th>\n",
       "      <th>Grade</th>\n",
       "      <th>Total_Pay</th>\n",
       "    </tr>\n",
       "  </thead>\n",
       "  <tbody>\n",
       "    <tr>\n",
       "      <th>0</th>\n",
       "      <td>ABS</td>\n",
       "      <td>Alcohol Beverage Services</td>\n",
       "      <td>ABS 85 IT Administration</td>\n",
       "      <td>0</td>\n",
       "      <td>M3</td>\n",
       "      <td>12.040939</td>\n",
       "    </tr>\n",
       "    <tr>\n",
       "      <th>1</th>\n",
       "      <td>CUS</td>\n",
       "      <td>Community Use of Public Facilities</td>\n",
       "      <td>CUS 70 Finance and Administrative Support Team</td>\n",
       "      <td>1</td>\n",
       "      <td>M3</td>\n",
       "      <td>11.862722</td>\n",
       "    </tr>\n",
       "    <tr>\n",
       "      <th>2</th>\n",
       "      <td>DGS</td>\n",
       "      <td>Department of General Services</td>\n",
       "      <td>DGS 36 Fleet Management Services</td>\n",
       "      <td>1</td>\n",
       "      <td>16</td>\n",
       "      <td>11.418327</td>\n",
       "    </tr>\n",
       "    <tr>\n",
       "      <th>3</th>\n",
       "      <td>CEX</td>\n",
       "      <td>Offices of the County Executive</td>\n",
       "      <td>CEX 15 Chief Administrative Officer's Office</td>\n",
       "      <td>1</td>\n",
       "      <td>EX2</td>\n",
       "      <td>12.240479</td>\n",
       "    </tr>\n",
       "    <tr>\n",
       "      <th>4</th>\n",
       "      <td>HHS</td>\n",
       "      <td>Department of Health and Human Services</td>\n",
       "      <td>HHS 60 Office of Eligibility and Support Services</td>\n",
       "      <td>1</td>\n",
       "      <td>N17</td>\n",
       "      <td>11.483767</td>\n",
       "    </tr>\n",
       "  </tbody>\n",
       "</table>\n",
       "</div>"
      ],
      "text/plain": [
       "  Department                          Department Name  \\\n",
       "0        ABS                Alcohol Beverage Services   \n",
       "1        CUS       Community Use of Public Facilities   \n",
       "2        DGS           Department of General Services   \n",
       "3        CEX          Offices of the County Executive   \n",
       "4        HHS  Department of Health and Human Services   \n",
       "\n",
       "                                            Division  Gender Grade  Total_Pay  \n",
       "0                           ABS 85 IT Administration       0    M3  12.040939  \n",
       "1     CUS 70 Finance and Administrative Support Team       1    M3  11.862722  \n",
       "2                   DGS 36 Fleet Management Services       1    16  11.418327  \n",
       "3       CEX 15 Chief Administrative Officer's Office       1   EX2  12.240479  \n",
       "4  HHS 60 Office of Eligibility and Support Services       1   N17  11.483767  "
      ]
     },
     "execution_count": 232,
     "metadata": {},
     "output_type": "execute_result"
    }
   ],
   "source": [
    "df.head()"
   ]
  },
  {
   "cell_type": "code",
   "execution_count": 233,
   "id": "0e5422d6",
   "metadata": {},
   "outputs": [
    {
     "data": {
      "text/plain": [
       "([0,\n",
       "  1,\n",
       "  2,\n",
       "  3,\n",
       "  4,\n",
       "  5,\n",
       "  6,\n",
       "  7,\n",
       "  8,\n",
       "  9,\n",
       "  10,\n",
       "  11,\n",
       "  12,\n",
       "  13,\n",
       "  14,\n",
       "  15,\n",
       "  16,\n",
       "  17,\n",
       "  18,\n",
       "  19,\n",
       "  20,\n",
       "  21,\n",
       "  22,\n",
       "  23,\n",
       "  24,\n",
       "  25,\n",
       "  26,\n",
       "  27,\n",
       "  28,\n",
       "  29,\n",
       "  30,\n",
       "  31,\n",
       "  32,\n",
       "  33,\n",
       "  34,\n",
       "  35,\n",
       "  36,\n",
       "  37,\n",
       "  38,\n",
       "  39,\n",
       "  40,\n",
       "  41],\n",
       " [Text(0, 0, 'ABS'),\n",
       "  Text(1, 0, 'CUS'),\n",
       "  Text(2, 0, 'DGS'),\n",
       "  Text(3, 0, 'CEX'),\n",
       "  Text(4, 0, 'HHS'),\n",
       "  Text(5, 0, 'OAG'),\n",
       "  Text(6, 0, 'COR'),\n",
       "  Text(7, 0, 'DOT'),\n",
       "  Text(8, 0, 'SHF'),\n",
       "  Text(9, 0, 'TBS'),\n",
       "  Text(10, 0, 'OHR'),\n",
       "  Text(11, 0, 'IGR'),\n",
       "  Text(12, 0, 'FIN'),\n",
       "  Text(13, 0, 'POL'),\n",
       "  Text(14, 0, 'DEP'),\n",
       "  Text(15, 0, 'BOA'),\n",
       "  Text(16, 0, 'HCA'),\n",
       "  Text(17, 0, 'OMB'),\n",
       "  Text(18, 0, 'DPS'),\n",
       "  Text(19, 0, 'PRO'),\n",
       "  Text(20, 0, 'FRS'),\n",
       "  Text(21, 0, 'CEC'),\n",
       "  Text(22, 0, 'LIB'),\n",
       "  Text(23, 0, 'REC'),\n",
       "  Text(24, 0, 'HRC'),\n",
       "  Text(25, 0, 'OIG'),\n",
       "  Text(26, 0, 'OLR'),\n",
       "  Text(27, 0, 'OCP'),\n",
       "  Text(28, 0, 'OAS'),\n",
       "  Text(29, 0, 'OLO'),\n",
       "  Text(30, 0, 'ORE'),\n",
       "  Text(31, 0, 'DHS'),\n",
       "  Text(32, 0, 'BOE'),\n",
       "  Text(33, 0, 'CAT'),\n",
       "  Text(34, 0, 'NDA'),\n",
       "  Text(35, 0, 'CCL'),\n",
       "  Text(36, 0, 'PIO'),\n",
       "  Text(37, 0, 'ZAH'),\n",
       "  Text(38, 0, 'ECM'),\n",
       "  Text(39, 0, 'OFR'),\n",
       "  Text(40, 0, 'MPB'),\n",
       "  Text(41, 0, 'OGM')])"
      ]
     },
     "execution_count": 233,
     "metadata": {},
     "output_type": "execute_result"
    },
    {
     "data": {
      "image/png": "[encoded data removed]",
      "text/plain": [
       "<Figure size 640x480 with 1 Axes>"
      ]
     },
     "metadata": {},
     "output_type": "display_data"
    }
   ],
   "source": [
    "sns.countplot(x='Department', data=df)\n",
    "plt.xticks(rotation=90)"
   ]
  },
  {
   "cell_type": "code",
   "execution_count": 234,
   "id": "5c5b5ca4",
   "metadata": {},
   "outputs": [
    {
     "data": {
      "text/plain": [
       "<Axes: xlabel='Gender', ylabel='count'>"
      ]
     },
     "execution_count": 234,
     "metadata": {},
     "output_type": "execute_result"
    },
    {
     "data": {
      "image/png": "[encoded data removed]",
      "text/plain": [
       "<Figure size 640x480 with 1 Axes>"
      ]
     },
     "metadata": {},
     "output_type": "display_data"
    }
   ],
   "source": [
    "sns.countplot(x='Gender',data=df)"
   ]
  },
  {
   "cell_type": "code",
   "execution_count": 235,
   "id": "f1dca55d",
   "metadata": {},
   "outputs": [
    {
     "data": {
      "text/plain": [
       "<seaborn.axisgrid.PairGrid at 0x20b75194260>"
      ]
     },
     "execution_count": 235,
     "metadata": {},
     "output_type": "execute_result"
    },
    {
     "data": {
      "image/png": "[encoded data removed]",
      "text/plain": [
       "<Figure size 500x500 with 6 Axes>"
      ]
     },
     "metadata": {},
     "output_type": "display_data"
    }
   ],
   "source": [
    "sns.pairplot(data=df)"
   ]
  },
  {
   "cell_type": "code",
   "execution_count": 236,
   "id": "7959c065",
   "metadata": {},
   "outputs": [
    {
     "data": {
      "text/plain": [
       "<Axes: xlabel='Total_Pay', ylabel='Count'>"
      ]
     },
     "execution_count": 236,
     "metadata": {},
     "output_type": "execute_result"
    },
    {
     "data": {
      "image/png": "[encoded data removed]",
      "text/plain": [
       "<Figure size 640x480 with 1 Axes>"
      ]
     },
     "metadata": {},
     "output_type": "display_data"
    }
   ],
   "source": [
    "sns.histplot(df['Total_Pay'],bins=10,kde=True)"
   ]
  },
  {
   "cell_type": "code",
   "execution_count": 237,
   "id": "c79f2b8b",
   "metadata": {},
   "outputs": [
    {
     "name": "stdout",
     "output_type": "stream",
     "text": [
      "11.520022446760823\n",
      "11.567739117991504\n",
      "0    11.776689\n",
      "Name: Total_Pay, dtype: float64\n"
     ]
    }
   ],
   "source": [
    "print(df['Total_Pay'].mean())\n",
    "print(df['Total_Pay'].median())\n",
    "print(df['Total_Pay'].mode())"
   ]
  },
  {
   "cell_type": "code",
   "execution_count": 238,
   "id": "45ca2d96",
   "metadata": {},
   "outputs": [
    {
     "name": "stdout",
     "output_type": "stream",
     "text": [
      "<class 'pandas.core.frame.DataFrame'>\n",
      "RangeIndex: 10398 entries, 0 to 10397\n",
      "Data columns (total 6 columns):\n",
      " #   Column           Non-Null Count  Dtype  \n",
      "---  ------           --------------  -----  \n",
      " 0   Department       10398 non-null  object \n",
      " 1   Department Name  10398 non-null  object \n",
      " 2   Division         10398 non-null  object \n",
      " 3   Gender           10398 non-null  int64  \n",
      " 4   Grade            10398 non-null  object \n",
      " 5   Total_Pay        10398 non-null  float64\n",
      "dtypes: float64(1), int64(1), object(4)\n",
      "memory usage: 487.5+ KB\n"
     ]
    }
   ],
   "source": [
    "df.info()"
   ]
  },
  {
   "cell_type": "code",
   "execution_count": 239,
   "id": "f6e2e951",
   "metadata": {},
   "outputs": [
    {
     "data": {
      "text/html": [
       "<div>\n",
       "<style scoped>\n",
       "    .dataframe tbody tr th:only-of-type {\n",
       "        vertical-align: middle;\n",
       "    }\n",
       "\n",
       "    .dataframe tbody tr th {\n",
       "        vertical-align: top;\n",
       "    }\n",
       "\n",
       "    .dataframe thead th {\n",
       "        text-align: right;\n",
       "    }\n",
       "</style>\n",
       "<table border=\"1\" class=\"dataframe\">\n",
       "  <thead>\n",
       "    <tr style=\"text-align: right;\">\n",
       "      <th></th>\n",
       "      <th>Gender</th>\n",
       "      <th>Total_Pay</th>\n",
       "    </tr>\n",
       "  </thead>\n",
       "  <tbody>\n",
       "    <tr>\n",
       "      <th>count</th>\n",
       "      <td>10398.000000</td>\n",
       "      <td>10398.000000</td>\n",
       "    </tr>\n",
       "    <tr>\n",
       "      <th>mean</th>\n",
       "      <td>0.423639</td>\n",
       "      <td>11.520022</td>\n",
       "    </tr>\n",
       "    <tr>\n",
       "      <th>std</th>\n",
       "      <td>0.494158</td>\n",
       "      <td>0.414662</td>\n",
       "    </tr>\n",
       "    <tr>\n",
       "      <th>min</th>\n",
       "      <td>0.000000</td>\n",
       "      <td>8.690819</td>\n",
       "    </tr>\n",
       "    <tr>\n",
       "      <th>25%</th>\n",
       "      <td>0.000000</td>\n",
       "      <td>11.321588</td>\n",
       "    </tr>\n",
       "    <tr>\n",
       "      <th>50%</th>\n",
       "      <td>0.000000</td>\n",
       "      <td>11.567739</td>\n",
       "    </tr>\n",
       "    <tr>\n",
       "      <th>75%</th>\n",
       "      <td>1.000000</td>\n",
       "      <td>11.776689</td>\n",
       "    </tr>\n",
       "    <tr>\n",
       "      <th>max</th>\n",
       "      <td>1.000000</td>\n",
       "      <td>12.930357</td>\n",
       "    </tr>\n",
       "  </tbody>\n",
       "</table>\n",
       "</div>"
      ],
      "text/plain": [
       "             Gender     Total_Pay\n",
       "count  10398.000000  10398.000000\n",
       "mean       0.423639     11.520022\n",
       "std        0.494158      0.414662\n",
       "min        0.000000      8.690819\n",
       "25%        0.000000     11.321588\n",
       "50%        0.000000     11.567739\n",
       "75%        1.000000     11.776689\n",
       "max        1.000000     12.930357"
      ]
     },
     "execution_count": 239,
     "metadata": {},
     "output_type": "execute_result"
    }
   ],
   "source": [
    "df.describe()"
   ]
  },
  {
   "cell_type": "code",
   "execution_count": 240,
   "id": "cc7a027e",
   "metadata": {},
   "outputs": [],
   "source": [
    "from sklearn.model_selection import train_test_split\n",
    "from sklearn.preprocessing import OneHotEncoder\n",
    "from sklearn.ensemble import RandomForestRegressor\n",
    "import pandas as pd\n",
    "\n",
    "# Select features\n",
    "X = df[['Department', 'Division', 'Gender', 'Grade']]\n",
    "y = df['Total_Pay']\n",
    "\n",
    "# One-hot encode categorical features\n",
    "X_encoded = pd.get_dummies(X)\n",
    "\n",
    "# Train/test split\n",
    "X_train, X_test, y_train, y_test = train_test_split(X_encoded, y, test_size=0.2, random_state=42)\n",
    "\n",
    "# Train model\n",
    "model = RandomForestRegressor()\n",
    "model.fit(X_train, y_train)\n",
    "\n",
    "# Predict\n",
    "y_pred = model.predict(X_test)\n"
   ]
  },
  {
   "cell_type": "code",
   "execution_count": 241,
   "id": "58a0b552",
   "metadata": {},
   "outputs": [
    {
     "name": "stdout",
     "output_type": "stream",
     "text": [
      "MAE: 0.14024494824430378\n",
      "MSE: 0.04231334590979984\n",
      "RMSE: 0.20570208047027586\n",
      "R² Score: 0.7742467688639489\n"
     ]
    }
   ],
   "source": [
    "from sklearn.metrics import mean_absolute_error, mean_squared_error, r2_score\n",
    "import numpy as np\n",
    "\n",
    "print(\"MAE:\", mean_absolute_error(y_test, y_pred))\n",
    "print(\"MSE:\", mean_squared_error(y_test, y_pred))\n",
    "print(\"RMSE:\", np.sqrt(mean_squared_error(y_test, y_pred)))\n",
    "print(\"R² Score:\", r2_score(y_test, y_pred))\n"
   ]
  },
  {
   "cell_type": "code",
   "execution_count": null,
   "id": "786fc10a",
   "metadata": {},
   "outputs": [],
   "source": []
  },
  {
   "cell_type": "code",
   "execution_count": null,
   "id": "2bb79921",
   "metadata": {},
   "outputs": [],
   "source": []
  },
  {
   "cell_type": "code",
   "execution_count": null,
   "id": "c5004d07",
   "metadata": {},
   "outputs": [],
   "source": []
  },
  {
   "cell_type": "code",
   "execution_count": null,
   "id": "3c790cb2",
   "metadata": {},
   "outputs": [],
   "source": []
  },
  {
   "cell_type": "code",
   "execution_count": null,
   "id": "d7f98a26",
   "metadata": {},
   "outputs": [],
   "source": []
  },
  {
   "cell_type": "code",
   "execution_count": null,
   "id": "f5ba4532",
   "metadata": {},
   "outputs": [],
   "source": []
  },
  {
   "cell_type": "code",
   "execution_count": null,
   "id": "79a2a11c",
   "metadata": {},
   "outputs": [],
   "source": []
  },
  {
   "cell_type": "code",
   "execution_count": null,
   "id": "819cde80",
   "metadata": {},
   "outputs": [],
   "source": []
  },
  {
   "cell_type": "code",
   "execution_count": null,
   "id": "b5caf069",
   "metadata": {},
   "outputs": [],
   "source": []
  },
  {
   "cell_type": "code",
   "execution_count": null,
   "id": "d1bedea4",
   "metadata": {},
   "outputs": [],
   "source": []
  },
  {
   "cell_type": "code",
   "execution_count": null,
   "id": "32291fc2",
   "metadata": {},
   "outputs": [],
   "source": []
  },
  {
   "cell_type": "code",
   "execution_count": null,
   "id": "8bcd493b",
   "metadata": {},
   "outputs": [],
   "source": []
  },
  {
   "cell_type": "code",
   "execution_count": null,
   "id": "cbff7bd0",
   "metadata": {},
   "outputs": [],
   "source": []
  },
  {
   "cell_type": "code",
   "execution_count": null,
   "id": "b149fba2",
   "metadata": {},
   "outputs": [],
   "source": []
  },
  {
   "cell_type": "code",
   "execution_count": null,
   "id": "4d3fbcac",
   "metadata": {},
   "outputs": [],
   "source": []
  },
  {
   "cell_type": "code",
   "execution_count": null,
   "id": "d0986767",
   "metadata": {},
   "outputs": [],
   "source": []
  },
  {
   "cell_type": "code",
   "execution_count": null,
   "id": "4db50241",
   "metadata": {},
   "outputs": [],
   "source": []
  },
  {
   "cell_type": "code",
   "execution_count": null,
   "id": "42422a35",
   "metadata": {},
   "outputs": [],
   "source": []
  },
  {
   "cell_type": "code",
   "execution_count": null,
   "id": "7b56133d",
   "metadata": {},
   "outputs": [],
   "source": []
  },
  {
   "cell_type": "code",
   "execution_count": null,
   "id": "aa955ac1",
   "metadata": {},
   "outputs": [],
   "source": []
  },
  {
   "cell_type": "code",
   "execution_count": null,
   "id": "6a2118a1",
   "metadata": {},
   "outputs": [],
   "source": []
  },
  {
   "cell_type": "code",
   "execution_count": null,
   "id": "77a03bc3",
   "metadata": {},
   "outputs": [],
   "source": []
  },
  {
   "cell_type": "code",
   "execution_count": null,
   "id": "627e7c28",
   "metadata": {},
   "outputs": [],
   "source": []
  },
  {
   "cell_type": "code",
   "execution_count": null,
   "id": "0aaa9469",
   "metadata": {},
   "outputs": [],
   "source": []
  },
  {
   "cell_type": "code",
   "execution_count": null,
   "id": "9c9678da",
   "metadata": {},
   "outputs": [],
   "source": []
  },
  {
   "cell_type": "code",
   "execution_count": null,
   "id": "8683f8db",
   "metadata": {},
   "outputs": [],
   "source": []
  },
  {
   "cell_type": "code",
   "execution_count": null,
   "id": "5139bec5",
   "metadata": {},
   "outputs": [],
   "source": []
  },
  {
   "cell_type": "code",
   "execution_count": null,
   "id": "5642d939",
   "metadata": {},
   "outputs": [],
   "source": []
  },
  {
   "cell_type": "code",
   "execution_count": null,
   "id": "327e2426",
   "metadata": {},
   "outputs": [],
   "source": []
  },
  {
   "cell_type": "code",
   "execution_count": null,
   "id": "06e659a8",
   "metadata": {},
   "outputs": [],
   "source": []
  },
  {
   "cell_type": "code",
   "execution_count": null,
   "id": "2c8d495e",
   "metadata": {},
   "outputs": [],
   "source": []
  },
  {
   "cell_type": "code",
   "execution_count": null,
   "id": "c21cd36c",
   "metadata": {},
   "outputs": [],
   "source": []
  },
  {
   "cell_type": "code",
   "execution_count": null,
   "id": "962a4b8c",
   "metadata": {},
   "outputs": [],
   "source": []
  },
  {
   "cell_type": "code",
   "execution_count": null,
   "id": "ef1cd799",
   "metadata": {},
   "outputs": [],
   "source": []
  },
  {
   "cell_type": "code",
   "execution_count": null,
   "id": "ca6b0bc8",
   "metadata": {},
   "outputs": [],
   "source": []
  },
  {
   "cell_type": "code",
   "execution_count": null,
   "id": "399cf27e",
   "metadata": {},
   "outputs": [],
   "source": []
  },
  {
   "cell_type": "code",
   "execution_count": null,
   "id": "13d3a7f4",
   "metadata": {},
   "outputs": [],
   "source": []
  },
  {
   "cell_type": "code",
   "execution_count": null,
   "id": "519c0a5b",
   "metadata": {},
   "outputs": [],
   "source": []
  },
  {
   "cell_type": "code",
   "execution_count": null,
   "id": "27a93143",
   "metadata": {},
   "outputs": [],
   "source": []
  },
  {
   "cell_type": "code",
   "execution_count": null,
   "id": "8af2b94e",
   "metadata": {},
   "outputs": [],
   "source": []
  },
  {
   "cell_type": "code",
   "execution_count": null,
   "id": "edee3b69",
   "metadata": {},
   "outputs": [],
   "source": []
  },
  {
   "cell_type": "code",
   "execution_count": null,
   "id": "8ae0341b",
   "metadata": {},
   "outputs": [],
   "source": []
  },
  {
   "cell_type": "code",
   "execution_count": null,
   "id": "4907266b",
   "metadata": {},
   "outputs": [],
   "source": []
  },
  {
   "cell_type": "code",
   "execution_count": null,
   "id": "5515f722",
   "metadata": {},
   "outputs": [],
   "source": []
  },
  {
   "cell_type": "code",
   "execution_count": null,
   "id": "ac20129b",
   "metadata": {},
   "outputs": [],
   "source": []
  },
  {
   "cell_type": "code",
   "execution_count": null,
   "id": "65e81ee8",
   "metadata": {},
   "outputs": [],
   "source": []
  },
  {
   "cell_type": "code",
   "execution_count": null,
   "id": "899e3278",
   "metadata": {},
   "outputs": [],
   "source": []
  },
  {
   "cell_type": "code",
   "execution_count": null,
   "id": "df905433",
   "metadata": {},
   "outputs": [],
   "source": []
  },
  {
   "cell_type": "code",
   "execution_count": null,
   "id": "1474f07e",
   "metadata": {},
   "outputs": [],
   "source": []
  },
  {
   "cell_type": "code",
   "execution_count": null,
   "id": "76185b0a",
   "metadata": {},
   "outputs": [],
   "source": []
  },
  {
   "cell_type": "code",
   "execution_count": null,
   "id": "12718506",
   "metadata": {},
   "outputs": [],
   "source": []
  },
  {
   "cell_type": "code",
   "execution_count": null,
   "id": "fd7a3409",
   "metadata": {},
   "outputs": [],
   "source": []
  },
  {
   "cell_type": "code",
   "execution_count": null,
   "id": "31040e45",
   "metadata": {},
   "outputs": [],
   "source": []
  },
  {
   "cell_type": "code",
   "execution_count": null,
   "id": "1dfe5a74",
   "metadata": {},
   "outputs": [],
   "source": []
  },
  {
   "cell_type": "code",
   "execution_count": null,
   "id": "36f35fe2",
   "metadata": {},
   "outputs": [],
   "source": []
  },
  {
   "cell_type": "code",
   "execution_count": null,
   "id": "772892c4",
   "metadata": {},
   "outputs": [],
   "source": []
  },
  {
   "cell_type": "code",
   "execution_count": null,
   "id": "b1d1b9f7",
   "metadata": {},
   "outputs": [],
   "source": []
  },
  {
   "cell_type": "code",
   "execution_count": null,
   "id": "fb2ff962",
   "metadata": {},
   "outputs": [],
   "source": []
  },
  {
   "cell_type": "code",
   "execution_count": null,
   "id": "d98e1097",
   "metadata": {},
   "outputs": [],
   "source": []
  },
  {
   "cell_type": "code",
   "execution_count": null,
   "id": "7c59688c",
   "metadata": {},
   "outputs": [],
   "source": []
  }
 ],
 "metadata": {
  "kernelspec": {
   "display_name": "Python 3",
   "language": "python",
   "name": "python3"
  },
  "language_info": {
   "codemirror_mode": {
    "name": "ipython",
    "version": 3
   },
   "file_extension": ".py",
   "mimetype": "text/x-python",
   "name": "python",
   "nbconvert_exporter": "python",
   "pygments_lexer": "ipython3",
   "version": "3.12.0"
  }
 },
 "nbformat": 4,
 "nbformat_minor": 5
}
